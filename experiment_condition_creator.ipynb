{
 "cells": [
  {
   "cell_type": "code",
   "execution_count": 60,
   "metadata": {},
   "outputs": [],
   "source": [
    "import numpy as np\n",
    "import pandas as pd\n",
    "import scipy\n",
    "import matplotlib.pyplot as plt\n",
    "import seaborn as sns\n",
    "import os\n",
    "from sklearn.preprocessing import MinMaxScaler"
   ]
  },
  {
   "cell_type": "code",
   "execution_count": 2,
   "metadata": {},
   "outputs": [
    {
     "data": {
      "text/plain": [
       "['20230404_dataset_v2_validationSet_v7_glossID_classified_on10thFrame.csv',\n",
       " 'experiment_condition_creator.ipynb',\n",
       " 'validationSet_v7_movies']"
      ]
     },
     "execution_count": 2,
     "metadata": {},
     "output_type": "execute_result"
    }
   ],
   "source": [
    "os.listdir()"
   ]
  },
  {
   "cell_type": "code",
   "execution_count": 64,
   "metadata": {},
   "outputs": [],
   "source": [
    "obj_list_path='20230404_dataset_v2_validationSet_v7_glossID_classified_on10thFrame.csv'\n",
    "obj_list=pd.read_csv(obj_list_path)\n",
    "obj_list[\"decisionNormalized\"] =obj_list[\"decision_value\"] /obj_list[\"decision_value\"].abs().max()\n",
    "\n",
    "test_obj_index=np.array(str(obj_list['test_object']))\n",
    "obj_list[\"obj_dir\"]=\"validationSet_v7_movies/\"+obj_list['test_object'].astype(str)+\".mp4\"\n",
    "#del obj_list['Unnamed: 0']\n",
    "#obj_list.head()\n",
    "import warnings\n",
    "warnings.filterwarnings('ignore')\n",
    "#warnings.resetwarnings()"
   ]
  },
  {
   "cell_type": "code",
   "execution_count": 66,
   "metadata": {},
   "outputs": [],
   "source": [
    "obj_list_glossy=obj_list[obj_list['Glossiness']==\"shiny\"]\n",
    "#obj_list_glossy[\"decisionNormalized\"] = MinMaxScaler().fit_transform(np.array(obj_list_glossy[\"decision_value\"]).reshape(-1,1))\n",
    "\n",
    "obj_list_glossy.sort_values(by=['decision_value'],inplace=True)\n",
    "obj_list_prototype=obj_list_glossy.iloc[15:35,:]\n",
    "obj_list_low_shiny=obj_list_glossy.iloc[obj_list_glossy.shape[0]-10:obj_list_glossy.shape[0]+1,:]\n",
    "obj_list_high_shiny=obj_list_glossy.iloc[0:10,:]\n",
    "glossy_exp_objects=pd.concat([obj_list_high_shiny,obj_list_low_shiny])\n",
    "glossy_exp_objects.to_csv('glossy_exp_objects.csv')\n",
    "\n",
    "obj_list_prototype.to_csv('glossy_examplar_objects.csv')"
   ]
  },
  {
   "cell_type": "code",
   "execution_count": null,
   "metadata": {},
   "outputs": [],
   "source": []
  }
 ],
 "metadata": {
  "kernelspec": {
   "display_name": "Python 3",
   "language": "python",
   "name": "python3"
  },
  "language_info": {
   "codemirror_mode": {
    "name": "ipython",
    "version": 3
   },
   "file_extension": ".py",
   "mimetype": "text/x-python",
   "name": "python",
   "nbconvert_exporter": "python",
   "pygments_lexer": "ipython3",
   "version": "3.10.11"
  },
  "orig_nbformat": 4
 },
 "nbformat": 4,
 "nbformat_minor": 2
}
